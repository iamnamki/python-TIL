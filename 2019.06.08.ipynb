{
 "cells": [
  {
   "cell_type": "code",
   "execution_count": 7,
   "metadata": {},
   "outputs": [
    {
     "name": "stdout",
     "output_type": "stream",
     "text": [
      "점수를 입력해 주세요100\n",
      "pass\n"
     ]
    }
   ],
   "source": [
    "'''if score > 50 :\n",
    "   grade = 'pass'\n",
    "else :\n",
    "   grade = 'fail' '''\n",
    "\n",
    "score = input(\"점수를 입력해 주세요\")\n",
    "\n",
    "grade = 'pass' if int(score) > 50 else 'fail'\n",
    "\n",
    "print(grade)"
   ]
  },
  {
   "cell_type": "code",
   "execution_count": 11,
   "metadata": {},
   "outputs": [
    {
     "name": "stdout",
     "output_type": "stream",
     "text": [
      "점수를 입력해 주세요90\n",
      "A\n"
     ]
    }
   ],
   "source": [
    "'''\n",
    "if score == 100 :\n",
    "   grade = 'A+'\n",
    "elif score  <100 and score >=90 :\n",
    "   grade = 'A'\n",
    "elif score >= 80 :\n",
    "   grade = 'B'\n",
    "elif score >=70 :\n",
    "   grade  = 'C'\n",
    "elif score >= 60 :\n",
    "   grade = 'D'\n",
    "else :\n",
    "   grade = 'F ' '''\n",
    "\n",
    "score = input(\"점수를 입력해 주세요\")\n",
    "\n",
    "grade_dict = {10 : 'A+', 9 :'A', 8 : 'B', 7 : 'C' , 6 : 'D' ,5:'F',4:'F',3:'F',2:'F',1:'F'}\n",
    "grade = grade_dict[ int(score) / 10]\n",
    "\n",
    "print(grade)"
   ]
  },
  {
   "cell_type": "code",
   "execution_count": 14,
   "metadata": {},
   "outputs": [
    {
     "name": "stdout",
     "output_type": "stream",
     "text": [
      "점수를 입력해 주세요50\n",
      "fail\n",
      "점수를 입력해 주세요100\n",
      "A+\n"
     ]
    }
   ],
   "source": [
    "#1번\n",
    "\n",
    "score = input(\"점수를 입력해 주세요\")\n",
    "grade = 'pass' if int(score) > 50 else 'fail'\n",
    "print(grade)\n",
    "\n",
    "#2번\n",
    "\n",
    "score = input(\"점수를 입력해 주세요\")\n",
    "grade_dict = {10 : 'A+', 9 :'A', 8 : 'B', 7 : 'C' , 6 : 'D' ,5:'F',4:'F',3:'F',2:'F',1:'F'}\n",
    "grade = grade_dict[ int(score) / 10]\n",
    "print(grade)\n"
   ]
  },
  {
   "cell_type": "code",
   "execution_count": 75,
   "metadata": {},
   "outputs": [
    {
     "name": "stdout",
     "output_type": "stream",
     "text": [
      "f= [3, 4, 5]\n",
      "m= [-10, -8, -6, -4, -2, 0, 2, 4, 6, 8, 10]\n"
     ]
    }
   ],
   "source": [
    "int_numbers = range(-5, 6)\n",
    "# f = filter(lambda x: x[0] == '김', int_numbers)\n",
    "f = filter(lambda x: x > 2, int_numbers)\n",
    "m = map(lambda x: x * 2, int_numbers)\n",
    "\n",
    "print(\"f=\", list(f) )\n",
    "print(\"m=\", list(m))"
   ]
  },
  {
   "cell_type": "code",
   "execution_count": 76,
   "metadata": {},
   "outputs": [
    {
     "name": "stdout",
     "output_type": "stream",
     "text": [
      "김일수 \t 남 \t 23 \t 80 \t \n",
      "홍길순 \t 여 \t 25 \t 75 \t \n",
      "박길동 \t 남 \t 45 \t 55 \t \n",
      "최순식 \t 남 \t 34 \t 90 \t \n",
      "강감찬 \t 남 \t 90 \t 100 \t \n",
      "갑돌이 \t 남 \t 38 \t 65 \t \n",
      "박삼순 \t 여 \t 31 \t 70 \t \n",
      "김갑순 \t 여 \t 28 \t 85 \t \n",
      "이갑순 \t 여 \t 28 \t 85 \t \n",
      "이순신 \t 남 \t 88 \t 89 \t \n"
     ]
    }
   ],
   "source": [
    "class Student :\n",
    "    grade = ''\n",
    "    def __init__(self, line):\n",
    "        name , gender , age , score = line.strip().split(',') #csv파일\n",
    "        self.name = name\n",
    "        self.gender = gender\n",
    "        self.age = int(age)\n",
    "        self.score = int(score)\n",
    "    def __str__(self) :\n",
    "        return \"{} \\t {} \\t {} \\t {} \\t {}\".format(self.name,self.gender,self.age,self.score, self.grade)\n",
    "    \n",
    "    def make_grade(self):\n",
    "        grade_dict = {10 : 'A+', 9 :'A', 8 : 'B', 7 : 'C' , 6 : 'D' ,5:'F',4:'F',3:'F',2:'F',1:'F'}\n",
    "        self.grade = grade_dict[ int(self.score) // 10]\n",
    "                   \n",
    "with open(\"student.csv\",\"r\",encoding=\"utf-8\") as file :\n",
    "    for idx , line in enumerate(file):\n",
    "        if idx != 0 :\n",
    "            print(Student(line))\n",
    "            \n",
    "            \n",
    "    "
   ]
  },
  {
   "cell_type": "code",
   "execution_count": 77,
   "metadata": {},
   "outputs": [],
   "source": [
    "from functools import reduce\n",
    "\n",
    "class Students :\n",
    "    def read_students(self) :\n",
    "        self.stu = []\n",
    "        with open(\"student.csv\",\"r\",encoding=\"utf-8\") as file :\n",
    "            for idx , line in enumerate(file):\n",
    "                if idx != 0 :\n",
    "                    self.stu.append(Student(line))\n",
    "    def print_students(self) :\n",
    "        for i in self.stu :\n",
    "            print(i)\n",
    "            \n",
    "    def sorting_students(self) :\n",
    "        self.stu = sorted(self.stu, key = lambda student  : student.score , reverse=True)\n",
    "        \n",
    " \n",
    "    def grading_students(self) :\n",
    "        for i in self.stu :\n",
    "            i.make_grade()\n",
    "\n",
    "    def get_sum(self) :\n",
    "        self.total = reduce(lambda x, y: (x if type(x) == int else x.score) + y.score, self.stu)\n",
    "        self.avg = self.total / len(self.stu)\n",
    "        print(\"총점 : {} \\n 평균 :{}\".format(self.total,self.avg))\n",
    "        \n",
    "    def print_above_avg(self) :\n",
    "        s = filter(lambda x : x.score > self.avg , self.stu )\n",
    "        for i in s :\n",
    "            print(i)   "
   ]
  },
  {
   "cell_type": "code",
   "execution_count": 74,
   "metadata": {},
   "outputs": [
    {
     "name": "stdout",
     "output_type": "stream",
     "text": [
      "김일수 \t 남 \t 23 \t 80 \t \n",
      "홍길순 \t 여 \t 25 \t 75 \t \n",
      "박길동 \t 남 \t 45 \t 55 \t \n",
      "최순식 \t 남 \t 34 \t 90 \t \n",
      "강감찬 \t 남 \t 90 \t 100 \t \n",
      "갑돌이 \t 남 \t 38 \t 65 \t \n",
      "박삼순 \t 여 \t 31 \t 70 \t \n",
      "김갑순 \t 여 \t 28 \t 85 \t \n",
      "이갑순 \t 여 \t 28 \t 85 \t \n",
      "이순신 \t 남 \t 88 \t 89 \t \n",
      "강감찬 \t 남 \t 90 \t 100 \t \n",
      "최순식 \t 남 \t 34 \t 90 \t \n",
      "이순신 \t 남 \t 88 \t 89 \t \n",
      "김갑순 \t 여 \t 28 \t 85 \t \n",
      "이갑순 \t 여 \t 28 \t 85 \t \n",
      "김일수 \t 남 \t 23 \t 80 \t \n",
      "홍길순 \t 여 \t 25 \t 75 \t \n",
      "박삼순 \t 여 \t 31 \t 70 \t \n",
      "갑돌이 \t 남 \t 38 \t 65 \t \n",
      "박길동 \t 남 \t 45 \t 55 \t \n",
      "강감찬 \t 남 \t 90 \t 100 \t A+\n",
      "최순식 \t 남 \t 34 \t 90 \t A\n",
      "이순신 \t 남 \t 88 \t 89 \t B\n",
      "김갑순 \t 여 \t 28 \t 85 \t B\n",
      "이갑순 \t 여 \t 28 \t 85 \t B\n",
      "김일수 \t 남 \t 23 \t 80 \t B\n",
      "홍길순 \t 여 \t 25 \t 75 \t C\n",
      "박삼순 \t 여 \t 31 \t 70 \t C\n",
      "갑돌이 \t 남 \t 38 \t 65 \t D\n",
      "박길동 \t 남 \t 45 \t 55 \t F\n",
      "총점 : 794 \n",
      " 평균 :79.4\n",
      "강감찬 \t 남 \t 90 \t 100 \t A+\n",
      "최순식 \t 남 \t 34 \t 90 \t A\n",
      "이순신 \t 남 \t 88 \t 89 \t B\n",
      "김갑순 \t 여 \t 28 \t 85 \t B\n",
      "이갑순 \t 여 \t 28 \t 85 \t B\n",
      "김일수 \t 남 \t 23 \t 80 \t B\n"
     ]
    }
   ],
   "source": [
    "s = Students()\n",
    "\n",
    "s.read_students()\n",
    "\n",
    "s.print_students()\n",
    "\n",
    "s.sorting_students()\n",
    "\n",
    "s.print_students()\n",
    "\n",
    "s.grading_students()\n",
    "\n",
    "s.print_students()\n",
    "\n",
    "s.get_sum()\n",
    "\n",
    "s.print_above_avg()"
   ]
  },
  {
   "cell_type": "code",
   "execution_count": null,
   "metadata": {},
   "outputs": [],
   "source": []
  },
  {
   "cell_type": "code",
   "execution_count": null,
   "metadata": {},
   "outputs": [],
   "source": []
  },
  {
   "cell_type": "code",
   "execution_count": null,
   "metadata": {},
   "outputs": [],
   "source": []
  },
  {
   "cell_type": "code",
   "execution_count": null,
   "metadata": {},
   "outputs": [],
   "source": []
  },
  {
   "cell_type": "code",
   "execution_count": null,
   "metadata": {},
   "outputs": [],
   "source": []
  },
  {
   "cell_type": "code",
   "execution_count": null,
   "metadata": {},
   "outputs": [],
   "source": []
  },
  {
   "cell_type": "code",
   "execution_count": null,
   "metadata": {},
   "outputs": [],
   "source": []
  },
  {
   "cell_type": "code",
   "execution_count": null,
   "metadata": {},
   "outputs": [],
   "source": []
  },
  {
   "cell_type": "code",
   "execution_count": null,
   "metadata": {},
   "outputs": [],
   "source": []
  }
 ],
 "metadata": {
  "kernelspec": {
   "display_name": "Python 3",
   "language": "python",
   "name": "python3"
  },
  "language_info": {
   "codemirror_mode": {
    "name": "ipython",
    "version": 3
   },
   "file_extension": ".py",
   "mimetype": "text/x-python",
   "name": "python",
   "nbconvert_exporter": "python",
   "pygments_lexer": "ipython3",
   "version": "3.7.1"
  }
 },
 "nbformat": 4,
 "nbformat_minor": 2
}
