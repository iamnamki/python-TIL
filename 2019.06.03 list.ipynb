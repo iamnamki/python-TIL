{
 "cells": [
  {
   "cell_type": "code",
   "execution_count": 27,
   "metadata": {},
   "outputs": [
    {
     "name": "stdout",
     "output_type": "stream",
     "text": [
      "3100\n"
     ]
    }
   ],
   "source": [
    "# fruits = {'오렌지': 400, '사과': 200, '바나나': 300} 일때,\n",
    "# 오렌지 3개, 사과 2개, 바나나 5개를 샀다면 총 구매액은??\n",
    "\n",
    "\n",
    "fruits = {'오렌지': 400, '사과': 200, '바나나': 300}\n",
    "\n",
    "total = 3*fruits['오렌지'] + 2*fruits['사과'] + 5*fruits['바나나']\n",
    "\n",
    "print(total)\n",
    "\n"
   ]
  },
  {
   "cell_type": "code",
   "execution_count": 18,
   "metadata": {},
   "outputs": [
    {
     "name": "stdout",
     "output_type": "stream",
     "text": [
      "2200\n"
     ]
    }
   ],
   "source": [
    "#변형\n",
    "\n",
    "fruits={'orange':200, 'apple':300, 'banana':500}\n",
    "cart = {'orange':3, 'apple':2, 'banana': 2}\n",
    "\n",
    "fruits_keys = fruits.keys()\n",
    "total = 0\n",
    " \n",
    "for fruit in fruits_keys :\n",
    "    total += fruits[fruit] * cart[fruit]\n",
    "\n",
    "print(total)    \n"
   ]
  },
  {
   "cell_type": "code",
   "execution_count": 29,
   "metadata": {},
   "outputs": [
    {
     "data": {
      "text/plain": [
       "[0, 2, 4, 6, 8, 10, 12, 14, 16, 18]"
      ]
     },
     "execution_count": 29,
     "metadata": {},
     "output_type": "execute_result"
    }
   ],
   "source": [
    "'''오늘의 퀴즈.\n",
    "arr=[]\n",
    "for i in range(0,20,2):\n",
    "   arr.append(i)\n",
    "\n",
    "위와 동일한 결과를 내는 코드를 한줄로 작성하세요.'''\n",
    "\n",
    "list( x for x in range(0,20,2))"
   ]
  },
  {
   "cell_type": "code",
   "execution_count": 31,
   "metadata": {},
   "outputs": [
    {
     "name": "stdout",
     "output_type": "stream",
     "text": [
      "3100\n",
      "2200\n"
     ]
    },
    {
     "data": {
      "text/plain": [
       "[0, 2, 4, 6, 8, 10, 12, 14, 16, 18]"
      ]
     },
     "execution_count": 31,
     "metadata": {},
     "output_type": "execute_result"
    }
   ],
   "source": [
    "# fruits = {'오렌지': 400, '사과': 200, '바나나': 300} 일때,\n",
    "# 오렌지 3개, 사과 2개, 바나나 5개를 샀다면 총 구매액은??\n",
    "\n",
    "\n",
    "fruits = {'오렌지': 400, '사과': 200, '바나나': 300}\n",
    "\n",
    "total = 3*fruits['오렌지'] + 2*fruits['사과'] + 5*fruits['바나나']\n",
    "\n",
    "print(total)\n",
    "\n",
    "#변형\n",
    "\n",
    "fruits={'orange':200, 'apple':300, 'banana':500}\n",
    "cart = {'orange':3, 'apple':2, 'banana': 2}\n",
    "\n",
    "fruits_keys = fruits.keys()\n",
    "total = 0\n",
    " \n",
    "for fruit in fruits_keys :\n",
    "    total += fruits[fruit] * cart[fruit]\n",
    "\n",
    "print(total)    \n",
    "\n",
    "\n",
    "'''오늘의 퀴즈.\n",
    "arr=[]\n",
    "for i in range(0,20,2):\n",
    "   arr.append(i)\n",
    "\n",
    "위와 동일한 결과를 내는 코드를 한줄로 작성하세요.'''\n",
    "\n",
    "list( x for x in range(0,20,2))"
   ]
  }
 ],
 "metadata": {
  "kernelspec": {
   "display_name": "Python 3",
   "language": "python",
   "name": "python3"
  },
  "language_info": {
   "codemirror_mode": {
    "name": "ipython",
    "version": 3
   },
   "file_extension": ".py",
   "mimetype": "text/x-python",
   "name": "python",
   "nbconvert_exporter": "python",
   "pygments_lexer": "ipython3",
   "version": "3.7.1"
  }
 },
 "nbformat": 4,
 "nbformat_minor": 2
}
